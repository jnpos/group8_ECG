{
  "nbformat": 4,
  "nbformat_minor": 0,
  "metadata": {
    "colab": {
      "provenance": [],
      "toc_visible": true,
      "include_colab_link": true
    },
    "kernelspec": {
      "name": "python3",
      "display_name": "Python 3"
    },
    "language_info": {
      "name": "python"
    }
  },
  "cells": [
    {
      "cell_type": "markdown",
      "metadata": {
        "id": "view-in-github",
        "colab_type": "text"
      },
      "source": [
        "<a href=\"https://colab.research.google.com/github/jnpos/group8_ECG/blob/Experimental-set-up/ECG_assignment.ipynb\" target=\"_parent\"><img src=\"https://colab.research.google.com/assets/colab-badge.svg\" alt=\"Open In Colab\"/></a>"
      ]
    },
    {
      "cell_type": "markdown",
      "source": [
        "\n",
        "# **Experimental set-up**"
      ],
      "metadata": {
        "id": "OqhuylOEZFFM"
      }
    },
    {
      "cell_type": "markdown",
      "source": [
        "## **Load data and packages**"
      ],
      "metadata": {
        "id": "RALEwSfkRVGF"
      }
    },
    {
      "cell_type": "code",
      "execution_count": 2,
      "metadata": {
        "colab": {
          "base_uri": "https://localhost:8080/"
        },
        "id": "rYsZqFpNnCHH",
        "outputId": "a6b8e6ac-1b7b-4bd3-bbd3-667d5039bfa3"
      },
      "outputs": [
        {
          "output_type": "stream",
          "name": "stdout",
          "text": [
            "fatal: destination path 'tm10007_ml' already exists and is not an empty directory.\n",
            "The number of samples: 827\n",
            "The number of columns: 9001\n"
          ]
        }
      ],
      "source": [
        "# Run this to use from colab environment\n",
        "!git clone https://github.com/jveenland/tm10007_ml.git\n",
        "\n",
        "import zipfile\n",
        "import os\n",
        "import pandas as pd\n",
        "\n",
        "with zipfile.ZipFile('/content/tm10007_ml/ecg/ecg_data.zip', 'r') as zip_ref:\n",
        "    zip_ref.extractall('/content/tm10007_ml/ecg')\n",
        "\n",
        "data = pd.read_csv('/content/tm10007_ml/ecg/ecg_data.csv', index_col=0)\n",
        "\n",
        "print(f'The number of samples: {len(data.index)}')\n",
        "print(f'The number of columns: {len(data.columns)}')\n",
        "\n",
        "# Packages\n",
        "import numpy as np \n",
        "from sklearn import model_selection\n",
        "from sklearn import preprocessing\n",
        "from scipy.stats import shapiro\n",
        "from sklearn.feature_selection import SelectKBest, f_classif\n",
        "from sklearn.linear_model import ElasticNet, Lasso, ElasticNetCV\n",
        "from sklearn.feature_selection import SelectFromModel\n",
        "from sklearn.decomposition import PCA\n",
        "from sklearn.metrics import fbeta_score, make_scorer\n",
        "from sklearn.tree import DecisionTreeClassifier\n",
        "from sklearn.svm import LinearSVC, SVC\n",
        "from sklearn.ensemble import RandomForestClassifier\n",
        "import matplotlib.pyplot as plt\n",
        "from sklearn.model_selection import LearningCurveDisplay, ShuffleSplit, RandomizedSearchCV, learning_curve\n",
        "\n"
      ]
    },
    {
      "cell_type": "markdown",
      "source": [
        "## **Split data into input and output**"
      ],
      "metadata": {
        "id": "xYjhz2AnRwW5"
      }
    },
    {
      "cell_type": "code",
      "source": [
        "# Find column with label \n",
        "bool_cols = [col for col in data \n",
        "             if np.isin(data[col].dropna().unique(), [0, 1]).all()]\n",
        "loc_label = data.columns.get_loc('label')\n",
        "\n",
        "# Determine data and output \n",
        "y = data['label']\n",
        "x = pd.DataFrame()\n",
        "x = data.drop(data.columns[loc_label],axis=1)"
      ],
      "metadata": {
        "id": "1MUfgS9jR2Qk"
      },
      "execution_count": 3,
      "outputs": []
    },
    {
      "cell_type": "markdown",
      "source": [
        "## **Preprocessing**"
      ],
      "metadata": {
        "id": "LsJEhl71SHw9"
      }
    },
    {
      "cell_type": "markdown",
      "source": [
        "**Delete samples with missing data**"
      ],
      "metadata": {
        "id": "IieMu5mWSOuD"
      }
    },
    {
      "cell_type": "code",
      "source": [
        "deleted_patients = []\n",
        "zero_samples = []\n",
        "zero_counts = []\n",
        "\n",
        "# Find patients (samples) with zero-padded ECG lead(s) (number of zeros for 1 lead = 750)\n",
        "for i in range(len(x)):\n",
        "  num_zeros = (x.iloc[i] == 0).sum()\n",
        "  if (num_zeros/750 >= 1) & (num_zeros%750 == 0):      # control if number of zeros is divisible by 750 and therefore zero-padded missing data and not relevant actual data\n",
        "    deleted_patients.append(i)\n",
        "    zero_samples.append(\"Sample_\" + str(i))\n",
        "    zero_counts.append(num_zeros)\n",
        "\n",
        "# Delete patients with missing lead data from dataset\n",
        "x_dropped = x.drop(deleted_patients)\n",
        "x_dropped = x_dropped.reset_index(drop=True)\n",
        "y_dropped = y.drop(deleted_patients)\n",
        "y_dropped = y_dropped.reset_index(drop=True)\n",
        "table = pd.DataFrame({'Sample ID': zero_samples, 'Zero count': zero_counts})\n",
        "\n",
        "# Return table from patients that were deleted and give resultant number of samples and columns in final dataset\n",
        "print(f'The number of samples: {len(x_dropped.index)}')\n",
        "print(f'The number of patients dropped: {len(table)}')"
      ],
      "metadata": {
        "colab": {
          "base_uri": "https://localhost:8080/"
        },
        "id": "a9ceE2a5SUmT",
        "outputId": "1b227edf-6b0a-4381-cc56-5694c22d0a18"
      },
      "execution_count": 4,
      "outputs": [
        {
          "output_type": "stream",
          "name": "stdout",
          "text": [
            "The number of samples: 813\n",
            "The number of patients dropped: 14\n"
          ]
        }
      ]
    },
    {
      "cell_type": "markdown",
      "source": [
        "**Split data in train and test set**"
      ],
      "metadata": {
        "id": "FC6ID5qg6A9s"
      }
    },
    {
      "cell_type": "code",
      "source": [
        "# Split test and trainingsdata and print shape of resulting trainset\n",
        "x_train, x_test, y_train, y_test = model_selection.train_test_split(x_dropped, y_dropped,test_size=0.25,random_state=0,stratify=y_dropped)\n",
        "\n",
        "print(f'Shape of training set x_train: {x_train.shape}')"
      ],
      "metadata": {
        "colab": {
          "base_uri": "https://localhost:8080/"
        },
        "id": "o6dVsyJK6DbP",
        "outputId": "b9ad7854-96d7-4b45-e979-5f70c2b6489b"
      },
      "execution_count": 5,
      "outputs": [
        {
          "output_type": "stream",
          "name": "stdout",
          "text": [
            "Shape of training set x_train: (609, 9000)\n"
          ]
        }
      ]
    },
    {
      "cell_type": "markdown",
      "source": [
        "**Scaling**"
      ],
      "metadata": {
        "id": "4GOFkb615y6L"
      }
    },
    {
      "cell_type": "code",
      "source": [
        "# Scaling fit and transform x_train, only transform x_test; \n",
        "scaler = preprocessing.RobustScaler()\n",
        "x_train = pd.DataFrame(scaler.fit_transform(x_train))\n",
        "x_test = pd.DataFrame(scaler.transform(x_test))"
      ],
      "metadata": {
        "id": "T2I8XRRh52MU"
      },
      "execution_count": 6,
      "outputs": []
    },
    {
      "cell_type": "markdown",
      "source": [
        "**Test if data is normally distributed**"
      ],
      "metadata": {
        "id": "VUBPMqv26tHD"
      }
    },
    {
      "cell_type": "code",
      "source": [
        "# Checking if data is normally distributed and print result \n",
        "amount_normallydistributed = 0\n",
        "\n",
        "for column in x_train.columns:\n",
        "  result = shapiro(x_train[column])\n",
        "  normallydistributed = result.pvalue > 0.05\n",
        "  amount_normallydistributed += normallydistributed \n",
        "  \n",
        "print(amount_normallydistributed, \"features are normally distributed features\")"
      ],
      "metadata": {
        "colab": {
          "base_uri": "https://localhost:8080/"
        },
        "id": "9ZpE5Fjv6yPu",
        "outputId": "3a38b947-6dec-4b0f-b581-da3a9645568a"
      },
      "execution_count": 7,
      "outputs": [
        {
          "output_type": "stream",
          "name": "stdout",
          "text": [
            "0 features are normally distributed features\n"
          ]
        }
      ]
    },
    {
      "cell_type": "markdown",
      "source": [
        "## **Feature selection**"
      ],
      "metadata": {
        "id": "O9jtS3rI7ZNZ"
      }
    },
    {
      "cell_type": "markdown",
      "source": [
        "**Univariate**"
      ],
      "metadata": {
        "id": "xWx9Qdny7zyc"
      }
    },
    {
      "cell_type": "code",
      "source": [
        "# Apply univariate feature selection and print resulting shape of train dataset\n",
        "selector = SelectKBest(f_classif, k=\"all\")\n",
        "selector.fit(x_train,y_train)\n",
        "scores = -np.log10(selector.pvalues_)\n",
        "scores /= scores.max()\n",
        "\n",
        "dataframe = pd.DataFrame()\n",
        "dataframe = selector.pvalues_\n",
        "\n",
        "fs = SelectKBest(score_func=f_classif, k=len(selector.pvalues_[selector.pvalues_<0.05]))\n",
        "X_univariate = fs.fit_transform(x_train, y_train)\n",
        "print(f'Resulting x_train after univariate feature selection: {X_univariate.shape}')"
      ],
      "metadata": {
        "colab": {
          "base_uri": "https://localhost:8080/"
        },
        "id": "qTdpScJD8sPG",
        "outputId": "9032f5ed-09c5-40d3-a433-b40d3564d0d7"
      },
      "execution_count": 8,
      "outputs": [
        {
          "output_type": "stream",
          "name": "stdout",
          "text": [
            "Resulting x_train after univariate feature selection: (609, 855)\n"
          ]
        }
      ]
    },
    {
      "cell_type": "markdown",
      "source": [
        "**Elastic Net (EN) regression**"
      ],
      "metadata": {
        "id": "P3A5VOy--Y1T"
      }
    },
    {
      "cell_type": "code",
      "source": [
        "# Apply elastic net regression feature selection and print resulting shape of train dataset\n",
        "regr = ElasticNetCV(cv=5, random_state=0,tol=1e-1)\n",
        "regr.fit(x_train, y_train)\n",
        "print(f'Tuned alpha for elastic net regression: {regr.alpha_}')\n",
        "#regr_alpha_ = 0.3858647907662583\n",
        "\n",
        "ENreg = ElasticNet(alpha=regr.alpha_, l1_ratio=0.05).fit(x_train,y_train)\n",
        "model_ENreg = SelectFromModel(ENreg, prefit=True)\n",
        "X_ENreg = model_ENreg.transform(x_train)\n",
        "print(f'Resulting x_train after EN regression feature selection: {X_ENreg.shape}')"
      ],
      "metadata": {
        "colab": {
          "base_uri": "https://localhost:8080/"
        },
        "id": "vIy3a2bD-bxZ",
        "outputId": "2fe149c6-bc3b-4087-d4a3-d15996130137"
      },
      "execution_count": 9,
      "outputs": [
        {
          "output_type": "stream",
          "name": "stdout",
          "text": [
            "Tuned alpha for elastic net regression: 0.3858647907662583\n",
            "Resulting x_train after EN regression feature selection: (609, 172)\n"
          ]
        }
      ]
    },
    {
      "cell_type": "markdown",
      "source": [
        "## **Feature transformation**"
      ],
      "metadata": {
        "id": "mRUdqw7NAZZD"
      }
    },
    {
      "cell_type": "markdown",
      "source": [
        "**Principal Component Analysis (PCA)**"
      ],
      "metadata": {
        "id": "f9E6UXF5__wH"
      }
    },
    {
      "cell_type": "code",
      "source": [
        "# In case of decision tree, feature amount is still too high after univariate feature selection\n",
        "# Principal Component Analysis is therefore applied to reduce amount of features to smaller amount of components\n",
        "X_univariate = pd.DataFrame(X_univariate)\n",
        "n_samples = len(X_univariate)\n",
        "\n",
        "p = PCA(n_components=n_samples//2)\n",
        "p = p.fit(X_univariate)\n",
        "X_pca = p.transform(X_univariate)\n",
        "\n",
        "print(f'Resulting x_train after univariate feature selection and PCA feature transformation: {X_pca.shape}')"
      ],
      "metadata": {
        "colab": {
          "base_uri": "https://localhost:8080/"
        },
        "id": "5f_a8VTyALw3",
        "outputId": "d1c34e7b-989e-4d02-854f-fb0dd1e3dd73"
      },
      "execution_count": 10,
      "outputs": [
        {
          "output_type": "stream",
          "name": "stdout",
          "text": [
            "Resulting x_train after univariate feature selection and PCA feature transformation: (609, 304)\n"
          ]
        }
      ]
    },
    {
      "cell_type": "markdown",
      "source": [
        "## **Plot learning curves for classifiers with default hyperparameter settings**"
      ],
      "metadata": {
        "id": "RVLDIIWMC3PY"
      }
    },
    {
      "cell_type": "markdown",
      "source": [
        "**Define performance metric**"
      ],
      "metadata": {
        "id": "ZeVxwf2NaXyp"
      }
    },
    {
      "cell_type": "code",
      "source": [
        "# Define f_beta as a performance scorer\n",
        "# Beta < 1 lends more weight to precision, while beta > 1 favors recall\n",
        "f_beta = make_scorer(fbeta_score, beta=2)"
      ],
      "metadata": {
        "id": "W9na7XNHDMhY"
      },
      "execution_count": 11,
      "outputs": []
    },
    {
      "cell_type": "markdown",
      "source": [
        "**Classifiers in combination with univariate feature selection (+ PCA feature transformation for Decision Tree)**"
      ],
      "metadata": {
        "id": "oujy4rZTC-xe"
      }
    },
    {
      "cell_type": "code",
      "source": [
        "tree = DecisionTreeClassifier(random_state=0)\n",
        "l_svm = LinearSVC(random_state=0)\n",
        "svm = SVC(random_state=0)\n",
        "rf = RandomForestClassifier(random_state=0)\n",
        "\n",
        "fig, ax = plt.subplots(nrows=1, ncols=4, figsize=(16, 6), sharey=True)\n",
        "title = ['tree', 'RF', 'LSVM', 'SVM']\n",
        "\n",
        "common_params = {\n",
        "    \"X\": X_univariate,\n",
        "    \"y\": y_train,\n",
        "    \"train_sizes\": np.linspace(0.1, 1.0, 5),\n",
        "    \"cv\": ShuffleSplit(n_splits=50, test_size=0.2, random_state=0),\n",
        "    \"score_type\": \"both\",\n",
        "    \"n_jobs\": 4,\n",
        "    \"line_kw\": {\"marker\": \"o\"},\n",
        "    \"std_display_style\": \"fill_between\",\n",
        "    \"score_name\": \"f2\",\n",
        "    \"scoring\": f_beta\n",
        "}\n",
        "\n",
        "common_params_tree = {\n",
        "    \"X\": X_pca,\n",
        "    \"y\": y_train,\n",
        "    \"train_sizes\": np.linspace(0.1, 1.0, 5),\n",
        "    \"cv\": ShuffleSplit(n_splits=50, test_size=0.2, random_state=0),\n",
        "    \"score_type\": \"both\",\n",
        "    \"n_jobs\": 4,\n",
        "    \"line_kw\": {\"marker\": \"o\"},\n",
        "    \"std_display_style\": \"fill_between\",\n",
        "    \"score_name\": \"f2\",\n",
        "    \"scoring\": f_beta\n",
        "}\n",
        "\n",
        "LearningCurveDisplay.from_estimator(tree, **common_params_tree, ax=ax[0])\n",
        "handles, label = ax[0].get_legend_handles_labels()\n",
        "ax[0].legend(handles[:2], [\"Training Score\", \"Test Score\"])\n",
        "ax[0].set_title(f\"Learning Curve for {title[0]}\")\n",
        "\n",
        "for ax_idx, estimator in enumerate([rf, l_svm, svm],1):\n",
        "    LearningCurveDisplay.from_estimator(estimator, **common_params, ax=ax[ax_idx])\n",
        "    handles, label = ax[ax_idx].get_legend_handles_labels()\n",
        "    ax[ax_idx].legend(handles[:2], [\"Training Score\", \"Test Score\"])\n",
        "    ax[ax_idx].set_title(f\"Learning Curve for {title[ax_idx]}\")"
      ],
      "metadata": {
        "colab": {
          "base_uri": "https://localhost:8080/",
          "height": 549
        },
        "id": "49aSzskIC-LC",
        "outputId": "ecddc1c2-be89-4c03-9797-caf5aae13a83"
      },
      "execution_count": 12,
      "outputs": [
        {
          "output_type": "display_data",
          "data": {
            "text/plain": [
              "<Figure size 1600x600 with 4 Axes>"
            ],
            "image/png": "[encoded data removed]"
          },
          "metadata": {}
        }
      ]
    },
    {
      "cell_type": "markdown",
      "source": [
        "**Classifiers in combination with EN regression feature selection**\n",
        "\n"
      ],
      "metadata": {
        "id": "d_5eH8ENW-nz"
      }
    },
    {
      "cell_type": "code",
      "source": [
        "tree = DecisionTreeClassifier(random_state=0)\n",
        "l_svm = LinearSVC(random_state=0, dual=False)\n",
        "svm = SVC(random_state=0)\n",
        "rf = RandomForestClassifier(random_state=0)\n",
        "\n",
        "fig, ax = plt.subplots(nrows=1, ncols=4, figsize=(16, 6), sharey=True)\n",
        "title = ['tree', 'RF', 'LSVM', 'SVM']\n",
        "\n",
        "common_params = {\n",
        "    \"X\": X_ENreg,\n",
        "    \"y\": y_train,\n",
        "    \"train_sizes\": np.linspace(0.1, 1.0, 5),\n",
        "    \"cv\": ShuffleSplit(n_splits=50, test_size=0.2, random_state=0),\n",
        "    \"score_type\": \"both\",\n",
        "    \"n_jobs\": 4,\n",
        "    \"line_kw\": {\"marker\": \"o\"},\n",
        "    \"std_display_style\": \"fill_between\",\n",
        "    \"score_name\": \"f2\",\n",
        "    \"scoring\": f_beta\n",
        "}\n",
        "\n",
        "for ax_idx, estimator in enumerate([tree, rf, l_svm, svm]):\n",
        "    LearningCurveDisplay.from_estimator(estimator, **common_params, ax=ax[ax_idx])\n",
        "    handles, label = ax[ax_idx].get_legend_handles_labels()\n",
        "    ax[ax_idx].legend(handles[:2], [\"Training Score\", \"Test Score\"])\n",
        "    ax[ax_idx].set_title(f\"Learning Curve for {title[ax_idx]}\")"
      ],
      "metadata": {
        "id": "lovZNg-kXHta",
        "outputId": "02d8167e-1e8c-46ca-f940-c15c55c076ec",
        "colab": {
          "base_uri": "https://localhost:8080/",
          "height": 549
        }
      },
      "execution_count": 27,
      "outputs": [
        {
          "output_type": "display_data",
          "data": {
            "text/plain": [
              "<Figure size 1600x600 with 4 Axes>"
            ],
            "image/png": "[encoded data removed]"
          },
          "metadata": {}
        }
      ]
    },
    {
      "cell_type": "markdown",
      "source": [
        "## **Optimize hyperparameter settings**"
      ],
      "metadata": {
        "id": "GFU2nE6gakfK"
      }
    },
    {
      "cell_type": "code",
      "source": [
        "# Initialize classifiers\n",
        "lsvm = LinearSVC(dual=False, fit_intercept=True, class_weight='balanced', random_state=0)\n",
        "tree = DecisionTreeClassifier(class_weight='balanced', random_state=0)\n",
        "svm = SVC(class_weight='balanced', random_state=0)\n",
        "RF = RandomForestClassifier(class_weight='balanced', random_state=0)\n",
        "\n",
        "# Define distributions\n",
        "distributions_lsvm = dict(penalty=['l2', 'l1'],\n",
        "                     loss = ['hinge','squared_hinge'],                                       \n",
        "                     #dual=[False, False],\n",
        "                     tol = np.geomspace(1e-7, 1e2, num=10),\n",
        "                     C = np.geomspace(1e-5, 1e5, num=11),\n",
        "                     #fit_intercept=[True, True],\n",
        "                     intercept_scaling = range(1,10),\n",
        "                     #class_weight = ['balanced','balanced']\n",
        "                     )\n",
        "\n",
        "distributions_tree = dict(criterion =['gini','entropy','log_loss'],\n",
        "                     splitter=['best','random'],\n",
        "                     min_samples_split=range(2,10),\n",
        "                     min_samples_leaf=range(1,10),\n",
        "                     min_weight_fraction_leaf = np.linspace(0, 0.5, 25),\n",
        "                     max_features=['sqrt','log2',None],\n",
        "                     #class_weight=['balanced','balanced']\n",
        "                     )\n",
        "\n",
        "distributions_svm = dict(C = np.geomspace(1e-5, 1e5, num=11),\n",
        "                     kernel=['linear','poly','rbf','sigmoid'],\n",
        "                     degree = range(0,5),\n",
        "                     gamma=['scale','auto'],\n",
        "                     coef0 = range(-5,5),\n",
        "                     shrinking = [True,False],\n",
        "                     probability = [True, False],\n",
        "                     tol = np.geomspace(1e-7, 1e2, num=10),\n",
        "                     cache_size=range(10,400),\n",
        "                     #class_weight = ['balanced','balanced']\n",
        "                     )\n",
        "\n",
        "distributions_rf = dict(n_estimators = range(5,1000,5),\n",
        "                     criterion =['gini','entropy','log_loss'],\n",
        "                     min_samples_split=range(2,10),\n",
        "                     min_samples_leaf=range(1,10),\n",
        "                     min_weight_fraction_leaf = np.linspace(0, 0.5, 25),\n",
        "                     max_features=['sqrt','log2',None],\n",
        "                     bootstrap=[True,False],\n",
        "                     oob_score=[True,False],\n",
        "                     warm_start=[True,False],\n",
        "                     #class_weight=['balanced','balanced']\n",
        "                     )\n",
        "\n",
        "# Perform Randomized Search \n",
        "clf_lsvm = RandomizedSearchCV(l_svm, distributions_lsvm, random_state=0, error_score=0.0, scoring=f_beta) #dual = False als n_samples > n_features \n",
        "clf_tree = RandomizedSearchCV(tree, distributions_tree, random_state=0, error_score=0.0, scoring=f_beta) \n",
        "clf_svm = RandomizedSearchCV(svm, distributions_svm, random_state=0, error_score=0.0, scoring=f_beta)\n",
        "clf_rf = RandomizedSearchCV(RF, distributions_rf, random_state=0, error_score=0.0, scoring=f_beta) \n",
        "\n",
        "# Fit tuned parameters on x_ENreg/ x_univariate and y_train:\n",
        "clf_all = [clf_lsvm, clf_tree, clf_svm, clf_rf]\n",
        "fs = [X_ENreg, X_univariate]\n",
        "\n",
        "search_lsvm_enreg  = clf_lsvm.fit(X_ENreg, y_train) \n",
        "search_tree_enreg = clf_tree.fit(X_ENreg, y_train)\n",
        "search_svm_enreg = clf_svm.fit(X_ENreg, y_train)\n",
        "search_rf_enreg = clf_rf.fit(X_ENreg, y_train)\n",
        "\n",
        "print(f'best parameters for LSVM enreg {search_lsvm_enreg.best_params_}')\n",
        "print(f'best parameters for Tree enreg {search_tree_enreg.best_params_}')\n",
        "print(f'best parameters for SVM enreg {search_svm_enreg.best_params_}')\n",
        "print(f'best parameters for RF enreg {search_rf_enreg.best_params_}')\n",
        "\n",
        "#X_lsvm_enreg  = clf_lsvm.transform(X_ENreg) \n",
        "#X_tree_enreg = clf_tree.transform(X_ENreg)\n",
        "#X_svm_enreg = clf_svm.transform(X_ENreg)\n",
        "#X_rf_enreg = clf_rf.transform(X_ENreg)\n",
        "                                                                                  # met of zonder y train?\n",
        "search_lsvm_univariate = clf_lsvm.fit(X_univariate, y_train) \n",
        "search_tree_univariate = clf_tree.fit(X_univariate, y_train)\n",
        "search_svm_univariate = clf_svm.fit(X_univariate, y_train)\n",
        "search_rf_univariate = clf_rf.fit(X_univariate, y_train)\n",
        "\n",
        "print(f'best parameters for LSVM univariate {search_lsvm_univariate.best_params_}')\n",
        "print(f'best parameters for Tree univariate {search_tree_univariate.best_params_}')\n",
        "print(f'best parameters for SVM univariate {search_svm_univariate.best_params_}')\n",
        "print(f'best parameters for RF univariate {search_rf_univariate.best_params_}')\n",
        "\n",
        "#X_lsvm_univariate  = clf_lsvm.transform(X_univariate) \n",
        "#X_tree_univariate = clf_tree.transform(X_univariate)\n",
        "#X_svm_univariate = clf_svm.transform(X_univariate)\n",
        "#X_rf_unvariate = clf_rf.transform(X_univariate)"
      ],
      "metadata": {
        "id": "DwCn5BYvasXa",
        "colab": {
          "base_uri": "https://localhost:8080/"
        },
        "outputId": "56b9f4c7-889d-435e-8c5b-f8604f5a2231"
      },
      "execution_count": 13,
      "outputs": [
        {
          "output_type": "stream",
          "name": "stderr",
          "text": [
            "/usr/local/lib/python3.9/dist-packages/sklearn/svm/_base.py:1244: ConvergenceWarning: Liblinear failed to converge, increase the number of iterations.\n",
            "  warnings.warn(\n",
            "/usr/local/lib/python3.9/dist-packages/sklearn/svm/_base.py:1244: ConvergenceWarning: Liblinear failed to converge, increase the number of iterations.\n",
            "  warnings.warn(\n",
            "/usr/local/lib/python3.9/dist-packages/sklearn/svm/_base.py:1244: ConvergenceWarning: Liblinear failed to converge, increase the number of iterations.\n",
            "  warnings.warn(\n",
            "/usr/local/lib/python3.9/dist-packages/sklearn/svm/_base.py:1244: ConvergenceWarning: Liblinear failed to converge, increase the number of iterations.\n",
            "  warnings.warn(\n",
            "/usr/local/lib/python3.9/dist-packages/sklearn/svm/_base.py:1244: ConvergenceWarning: Liblinear failed to converge, increase the number of iterations.\n",
            "  warnings.warn(\n",
            "/usr/local/lib/python3.9/dist-packages/sklearn/model_selection/_validation.py:378: FitFailedWarning: \n",
            "35 fits failed out of a total of 50.\n",
            "The score on these train-test partitions for these parameters will be set to 0.0.\n",
            "If these failures are not expected, you can try to debug them by setting error_score='raise'.\n",
            "\n",
            "Below are more details about the failures:\n",
            "--------------------------------------------------------------------------------\n",
            "15 fits failed with the following error:\n",
            "Traceback (most recent call last):\n",
            "  File \"/usr/local/lib/python3.9/dist-packages/sklearn/model_selection/_validation.py\", line 686, in _fit_and_score\n",
            "    estimator.fit(X_train, y_train, **fit_params)\n",
            "  File \"/usr/local/lib/python3.9/dist-packages/sklearn/svm/_classes.py\", line 274, in fit\n",
            "    self.coef_, self.intercept_, n_iter_ = _fit_liblinear(\n",
            "  File \"/usr/local/lib/python3.9/dist-packages/sklearn/svm/_base.py\", line 1223, in _fit_liblinear\n",
            "    solver_type = _get_liblinear_solver_type(multi_class, penalty, loss, dual)\n",
            "  File \"/usr/local/lib/python3.9/dist-packages/sklearn/svm/_base.py\", line 1062, in _get_liblinear_solver_type\n",
            "    raise ValueError(\n",
            "ValueError: Unsupported set of arguments: The combination of penalty='l1' and loss='hinge' is not supported, Parameters: penalty='l1', loss='hinge', dual=True\n",
            "\n",
            "--------------------------------------------------------------------------------\n",
            "20 fits failed with the following error:\n",
            "Traceback (most recent call last):\n",
            "  File \"/usr/local/lib/python3.9/dist-packages/sklearn/model_selection/_validation.py\", line 686, in _fit_and_score\n",
            "    estimator.fit(X_train, y_train, **fit_params)\n",
            "  File \"/usr/local/lib/python3.9/dist-packages/sklearn/svm/_classes.py\", line 274, in fit\n",
            "    self.coef_, self.intercept_, n_iter_ = _fit_liblinear(\n",
            "  File \"/usr/local/lib/python3.9/dist-packages/sklearn/svm/_base.py\", line 1223, in _fit_liblinear\n",
            "    solver_type = _get_liblinear_solver_type(multi_class, penalty, loss, dual)\n",
            "  File \"/usr/local/lib/python3.9/dist-packages/sklearn/svm/_base.py\", line 1062, in _get_liblinear_solver_type\n",
            "    raise ValueError(\n",
            "ValueError: Unsupported set of arguments: The combination of penalty='l1' and loss='squared_hinge' are not supported when dual=True, Parameters: penalty='l1', loss='squared_hinge', dual=True\n",
            "\n",
            "  warnings.warn(some_fits_failed_message, FitFailedWarning)\n",
            "/usr/local/lib/python3.9/dist-packages/sklearn/ensemble/_forest.py:777: UserWarning: class_weight presets \"balanced\" or \"balanced_subsample\" are not recommended for warm_start if the fitted data differs from the full dataset. In order to use \"balanced\" weights, use compute_class_weight (\"balanced\", classes, y). In place of y you can use a large enough sample of the full training set target to properly estimate the class frequency distributions. Pass the resulting weights as the class_weight parameter.\n",
            "  warn(\n",
            "/usr/local/lib/python3.9/dist-packages/sklearn/ensemble/_forest.py:777: UserWarning: class_weight presets \"balanced\" or \"balanced_subsample\" are not recommended for warm_start if the fitted data differs from the full dataset. In order to use \"balanced\" weights, use compute_class_weight (\"balanced\", classes, y). In place of y you can use a large enough sample of the full training set target to properly estimate the class frequency distributions. Pass the resulting weights as the class_weight parameter.\n",
            "  warn(\n",
            "/usr/local/lib/python3.9/dist-packages/sklearn/ensemble/_forest.py:777: UserWarning: class_weight presets \"balanced\" or \"balanced_subsample\" are not recommended for warm_start if the fitted data differs from the full dataset. In order to use \"balanced\" weights, use compute_class_weight (\"balanced\", classes, y). In place of y you can use a large enough sample of the full training set target to properly estimate the class frequency distributions. Pass the resulting weights as the class_weight parameter.\n",
            "  warn(\n",
            "/usr/local/lib/python3.9/dist-packages/sklearn/ensemble/_forest.py:777: UserWarning: class_weight presets \"balanced\" or \"balanced_subsample\" are not recommended for warm_start if the fitted data differs from the full dataset. In order to use \"balanced\" weights, use compute_class_weight (\"balanced\", classes, y). In place of y you can use a large enough sample of the full training set target to properly estimate the class frequency distributions. Pass the resulting weights as the class_weight parameter.\n",
            "  warn(\n",
            "/usr/local/lib/python3.9/dist-packages/sklearn/ensemble/_forest.py:777: UserWarning: class_weight presets \"balanced\" or \"balanced_subsample\" are not recommended for warm_start if the fitted data differs from the full dataset. In order to use \"balanced\" weights, use compute_class_weight (\"balanced\", classes, y). In place of y you can use a large enough sample of the full training set target to properly estimate the class frequency distributions. Pass the resulting weights as the class_weight parameter.\n",
            "  warn(\n",
            "/usr/local/lib/python3.9/dist-packages/sklearn/ensemble/_forest.py:777: UserWarning: class_weight presets \"balanced\" or \"balanced_subsample\" are not recommended for warm_start if the fitted data differs from the full dataset. In order to use \"balanced\" weights, use compute_class_weight (\"balanced\", classes, y). In place of y you can use a large enough sample of the full training set target to properly estimate the class frequency distributions. Pass the resulting weights as the class_weight parameter.\n",
            "  warn(\n",
            "/usr/local/lib/python3.9/dist-packages/sklearn/ensemble/_forest.py:777: UserWarning: class_weight presets \"balanced\" or \"balanced_subsample\" are not recommended for warm_start if the fitted data differs from the full dataset. In order to use \"balanced\" weights, use compute_class_weight (\"balanced\", classes, y). In place of y you can use a large enough sample of the full training set target to properly estimate the class frequency distributions. Pass the resulting weights as the class_weight parameter.\n",
            "  warn(\n",
            "/usr/local/lib/python3.9/dist-packages/sklearn/ensemble/_forest.py:777: UserWarning: class_weight presets \"balanced\" or \"balanced_subsample\" are not recommended for warm_start if the fitted data differs from the full dataset. In order to use \"balanced\" weights, use compute_class_weight (\"balanced\", classes, y). In place of y you can use a large enough sample of the full training set target to properly estimate the class frequency distributions. Pass the resulting weights as the class_weight parameter.\n",
            "  warn(\n",
            "/usr/local/lib/python3.9/dist-packages/sklearn/ensemble/_forest.py:777: UserWarning: class_weight presets \"balanced\" or \"balanced_subsample\" are not recommended for warm_start if the fitted data differs from the full dataset. In order to use \"balanced\" weights, use compute_class_weight (\"balanced\", classes, y). In place of y you can use a large enough sample of the full training set target to properly estimate the class frequency distributions. Pass the resulting weights as the class_weight parameter.\n",
            "  warn(\n",
            "/usr/local/lib/python3.9/dist-packages/sklearn/ensemble/_forest.py:777: UserWarning: class_weight presets \"balanced\" or \"balanced_subsample\" are not recommended for warm_start if the fitted data differs from the full dataset. In order to use \"balanced\" weights, use compute_class_weight (\"balanced\", classes, y). In place of y you can use a large enough sample of the full training set target to properly estimate the class frequency distributions. Pass the resulting weights as the class_weight parameter.\n",
            "  warn(\n",
            "/usr/local/lib/python3.9/dist-packages/sklearn/ensemble/_forest.py:777: UserWarning: class_weight presets \"balanced\" or \"balanced_subsample\" are not recommended for warm_start if the fitted data differs from the full dataset. In order to use \"balanced\" weights, use compute_class_weight (\"balanced\", classes, y). In place of y you can use a large enough sample of the full training set target to properly estimate the class frequency distributions. Pass the resulting weights as the class_weight parameter.\n",
            "  warn(\n",
            "/usr/local/lib/python3.9/dist-packages/sklearn/ensemble/_forest.py:777: UserWarning: class_weight presets \"balanced\" or \"balanced_subsample\" are not recommended for warm_start if the fitted data differs from the full dataset. In order to use \"balanced\" weights, use compute_class_weight (\"balanced\", classes, y). In place of y you can use a large enough sample of the full training set target to properly estimate the class frequency distributions. Pass the resulting weights as the class_weight parameter.\n",
            "  warn(\n",
            "/usr/local/lib/python3.9/dist-packages/sklearn/ensemble/_forest.py:777: UserWarning: class_weight presets \"balanced\" or \"balanced_subsample\" are not recommended for warm_start if the fitted data differs from the full dataset. In order to use \"balanced\" weights, use compute_class_weight (\"balanced\", classes, y). In place of y you can use a large enough sample of the full training set target to properly estimate the class frequency distributions. Pass the resulting weights as the class_weight parameter.\n",
            "  warn(\n",
            "/usr/local/lib/python3.9/dist-packages/sklearn/ensemble/_forest.py:777: UserWarning: class_weight presets \"balanced\" or \"balanced_subsample\" are not recommended for warm_start if the fitted data differs from the full dataset. In order to use \"balanced\" weights, use compute_class_weight (\"balanced\", classes, y). In place of y you can use a large enough sample of the full training set target to properly estimate the class frequency distributions. Pass the resulting weights as the class_weight parameter.\n",
            "  warn(\n",
            "/usr/local/lib/python3.9/dist-packages/sklearn/ensemble/_forest.py:777: UserWarning: class_weight presets \"balanced\" or \"balanced_subsample\" are not recommended for warm_start if the fitted data differs from the full dataset. In order to use \"balanced\" weights, use compute_class_weight (\"balanced\", classes, y). In place of y you can use a large enough sample of the full training set target to properly estimate the class frequency distributions. Pass the resulting weights as the class_weight parameter.\n",
            "  warn(\n",
            "/usr/local/lib/python3.9/dist-packages/sklearn/ensemble/_forest.py:777: UserWarning: class_weight presets \"balanced\" or \"balanced_subsample\" are not recommended for warm_start if the fitted data differs from the full dataset. In order to use \"balanced\" weights, use compute_class_weight (\"balanced\", classes, y). In place of y you can use a large enough sample of the full training set target to properly estimate the class frequency distributions. Pass the resulting weights as the class_weight parameter.\n",
            "  warn(\n",
            "/usr/local/lib/python3.9/dist-packages/sklearn/ensemble/_forest.py:777: UserWarning: class_weight presets \"balanced\" or \"balanced_subsample\" are not recommended for warm_start if the fitted data differs from the full dataset. In order to use \"balanced\" weights, use compute_class_weight (\"balanced\", classes, y). In place of y you can use a large enough sample of the full training set target to properly estimate the class frequency distributions. Pass the resulting weights as the class_weight parameter.\n",
            "  warn(\n",
            "/usr/local/lib/python3.9/dist-packages/sklearn/ensemble/_forest.py:777: UserWarning: class_weight presets \"balanced\" or \"balanced_subsample\" are not recommended for warm_start if the fitted data differs from the full dataset. In order to use \"balanced\" weights, use compute_class_weight (\"balanced\", classes, y). In place of y you can use a large enough sample of the full training set target to properly estimate the class frequency distributions. Pass the resulting weights as the class_weight parameter.\n",
            "  warn(\n",
            "/usr/local/lib/python3.9/dist-packages/sklearn/ensemble/_forest.py:777: UserWarning: class_weight presets \"balanced\" or \"balanced_subsample\" are not recommended for warm_start if the fitted data differs from the full dataset. In order to use \"balanced\" weights, use compute_class_weight (\"balanced\", classes, y). In place of y you can use a large enough sample of the full training set target to properly estimate the class frequency distributions. Pass the resulting weights as the class_weight parameter.\n",
            "  warn(\n",
            "/usr/local/lib/python3.9/dist-packages/sklearn/ensemble/_forest.py:777: UserWarning: class_weight presets \"balanced\" or \"balanced_subsample\" are not recommended for warm_start if the fitted data differs from the full dataset. In order to use \"balanced\" weights, use compute_class_weight (\"balanced\", classes, y). In place of y you can use a large enough sample of the full training set target to properly estimate the class frequency distributions. Pass the resulting weights as the class_weight parameter.\n",
            "  warn(\n",
            "/usr/local/lib/python3.9/dist-packages/sklearn/model_selection/_validation.py:378: FitFailedWarning: \n",
            "10 fits failed out of a total of 50.\n",
            "The score on these train-test partitions for these parameters will be set to 0.0.\n",
            "If these failures are not expected, you can try to debug them by setting error_score='raise'.\n",
            "\n",
            "Below are more details about the failures:\n",
            "--------------------------------------------------------------------------------\n",
            "10 fits failed with the following error:\n",
            "Traceback (most recent call last):\n",
            "  File \"/usr/local/lib/python3.9/dist-packages/sklearn/model_selection/_validation.py\", line 686, in _fit_and_score\n",
            "    estimator.fit(X_train, y_train, **fit_params)\n",
            "  File \"/usr/local/lib/python3.9/dist-packages/sklearn/ensemble/_forest.py\", line 434, in fit\n",
            "    raise ValueError(\"Out of bag estimation only available if bootstrap=True\")\n",
            "ValueError: Out of bag estimation only available if bootstrap=True\n",
            "\n",
            "  warnings.warn(some_fits_failed_message, FitFailedWarning)\n"
          ]
        },
        {
          "output_type": "stream",
          "name": "stdout",
          "text": [
            "best parameters for LSVM enreg {'tol': 1.0, 'penalty': 'l2', 'loss': 'hinge', 'intercept_scaling': 3, 'C': 100.0}\n",
            "best parameters for Tree enreg {'splitter': 'random', 'min_weight_fraction_leaf': 0.4583333333333333, 'min_samples_split': 6, 'min_samples_leaf': 7, 'max_features': None, 'criterion': 'gini'}\n",
            "best parameters for SVM enreg {'tol': 1.0, 'shrinking': True, 'probability': True, 'kernel': 'linear', 'gamma': 'auto', 'degree': 4, 'coef0': 4, 'cache_size': 169, 'C': 0.001}\n",
            "best parameters for RF enreg {'warm_start': False, 'oob_score': False, 'n_estimators': 280, 'min_weight_fraction_leaf': 0.3958333333333333, 'min_samples_split': 5, 'min_samples_leaf': 5, 'max_features': 'log2', 'criterion': 'gini', 'bootstrap': False}\n"
          ]
        },
        {
          "output_type": "stream",
          "name": "stderr",
          "text": [
            "/usr/local/lib/python3.9/dist-packages/sklearn/svm/_base.py:1244: ConvergenceWarning: Liblinear failed to converge, increase the number of iterations.\n",
            "  warnings.warn(\n",
            "/usr/local/lib/python3.9/dist-packages/sklearn/svm/_base.py:1244: ConvergenceWarning: Liblinear failed to converge, increase the number of iterations.\n",
            "  warnings.warn(\n",
            "/usr/local/lib/python3.9/dist-packages/sklearn/svm/_base.py:1244: ConvergenceWarning: Liblinear failed to converge, increase the number of iterations.\n",
            "  warnings.warn(\n",
            "/usr/local/lib/python3.9/dist-packages/sklearn/svm/_base.py:1244: ConvergenceWarning: Liblinear failed to converge, increase the number of iterations.\n",
            "  warnings.warn(\n",
            "/usr/local/lib/python3.9/dist-packages/sklearn/model_selection/_validation.py:378: FitFailedWarning: \n",
            "35 fits failed out of a total of 50.\n",
            "The score on these train-test partitions for these parameters will be set to 0.0.\n",
            "If these failures are not expected, you can try to debug them by setting error_score='raise'.\n",
            "\n",
            "Below are more details about the failures:\n",
            "--------------------------------------------------------------------------------\n",
            "15 fits failed with the following error:\n",
            "Traceback (most recent call last):\n",
            "  File \"/usr/local/lib/python3.9/dist-packages/sklearn/model_selection/_validation.py\", line 686, in _fit_and_score\n",
            "    estimator.fit(X_train, y_train, **fit_params)\n",
            "  File \"/usr/local/lib/python3.9/dist-packages/sklearn/svm/_classes.py\", line 274, in fit\n",
            "    self.coef_, self.intercept_, n_iter_ = _fit_liblinear(\n",
            "  File \"/usr/local/lib/python3.9/dist-packages/sklearn/svm/_base.py\", line 1223, in _fit_liblinear\n",
            "    solver_type = _get_liblinear_solver_type(multi_class, penalty, loss, dual)\n",
            "  File \"/usr/local/lib/python3.9/dist-packages/sklearn/svm/_base.py\", line 1062, in _get_liblinear_solver_type\n",
            "    raise ValueError(\n",
            "ValueError: Unsupported set of arguments: The combination of penalty='l1' and loss='hinge' is not supported, Parameters: penalty='l1', loss='hinge', dual=True\n",
            "\n",
            "--------------------------------------------------------------------------------\n",
            "20 fits failed with the following error:\n",
            "Traceback (most recent call last):\n",
            "  File \"/usr/local/lib/python3.9/dist-packages/sklearn/model_selection/_validation.py\", line 686, in _fit_and_score\n",
            "    estimator.fit(X_train, y_train, **fit_params)\n",
            "  File \"/usr/local/lib/python3.9/dist-packages/sklearn/svm/_classes.py\", line 274, in fit\n",
            "    self.coef_, self.intercept_, n_iter_ = _fit_liblinear(\n",
            "  File \"/usr/local/lib/python3.9/dist-packages/sklearn/svm/_base.py\", line 1223, in _fit_liblinear\n",
            "    solver_type = _get_liblinear_solver_type(multi_class, penalty, loss, dual)\n",
            "  File \"/usr/local/lib/python3.9/dist-packages/sklearn/svm/_base.py\", line 1062, in _get_liblinear_solver_type\n",
            "    raise ValueError(\n",
            "ValueError: Unsupported set of arguments: The combination of penalty='l1' and loss='squared_hinge' are not supported when dual=True, Parameters: penalty='l1', loss='squared_hinge', dual=True\n",
            "\n",
            "  warnings.warn(some_fits_failed_message, FitFailedWarning)\n",
            "/usr/local/lib/python3.9/dist-packages/sklearn/svm/_base.py:1244: ConvergenceWarning: Liblinear failed to converge, increase the number of iterations.\n",
            "  warnings.warn(\n",
            "/usr/local/lib/python3.9/dist-packages/sklearn/ensemble/_forest.py:777: UserWarning: class_weight presets \"balanced\" or \"balanced_subsample\" are not recommended for warm_start if the fitted data differs from the full dataset. In order to use \"balanced\" weights, use compute_class_weight (\"balanced\", classes, y). In place of y you can use a large enough sample of the full training set target to properly estimate the class frequency distributions. Pass the resulting weights as the class_weight parameter.\n",
            "  warn(\n",
            "/usr/local/lib/python3.9/dist-packages/sklearn/ensemble/_forest.py:777: UserWarning: class_weight presets \"balanced\" or \"balanced_subsample\" are not recommended for warm_start if the fitted data differs from the full dataset. In order to use \"balanced\" weights, use compute_class_weight (\"balanced\", classes, y). In place of y you can use a large enough sample of the full training set target to properly estimate the class frequency distributions. Pass the resulting weights as the class_weight parameter.\n",
            "  warn(\n",
            "/usr/local/lib/python3.9/dist-packages/sklearn/ensemble/_forest.py:777: UserWarning: class_weight presets \"balanced\" or \"balanced_subsample\" are not recommended for warm_start if the fitted data differs from the full dataset. In order to use \"balanced\" weights, use compute_class_weight (\"balanced\", classes, y). In place of y you can use a large enough sample of the full training set target to properly estimate the class frequency distributions. Pass the resulting weights as the class_weight parameter.\n",
            "  warn(\n",
            "/usr/local/lib/python3.9/dist-packages/sklearn/ensemble/_forest.py:777: UserWarning: class_weight presets \"balanced\" or \"balanced_subsample\" are not recommended for warm_start if the fitted data differs from the full dataset. In order to use \"balanced\" weights, use compute_class_weight (\"balanced\", classes, y). In place of y you can use a large enough sample of the full training set target to properly estimate the class frequency distributions. Pass the resulting weights as the class_weight parameter.\n",
            "  warn(\n",
            "/usr/local/lib/python3.9/dist-packages/sklearn/ensemble/_forest.py:777: UserWarning: class_weight presets \"balanced\" or \"balanced_subsample\" are not recommended for warm_start if the fitted data differs from the full dataset. In order to use \"balanced\" weights, use compute_class_weight (\"balanced\", classes, y). In place of y you can use a large enough sample of the full training set target to properly estimate the class frequency distributions. Pass the resulting weights as the class_weight parameter.\n",
            "  warn(\n",
            "/usr/local/lib/python3.9/dist-packages/sklearn/ensemble/_forest.py:777: UserWarning: class_weight presets \"balanced\" or \"balanced_subsample\" are not recommended for warm_start if the fitted data differs from the full dataset. In order to use \"balanced\" weights, use compute_class_weight (\"balanced\", classes, y). In place of y you can use a large enough sample of the full training set target to properly estimate the class frequency distributions. Pass the resulting weights as the class_weight parameter.\n",
            "  warn(\n",
            "/usr/local/lib/python3.9/dist-packages/sklearn/ensemble/_forest.py:777: UserWarning: class_weight presets \"balanced\" or \"balanced_subsample\" are not recommended for warm_start if the fitted data differs from the full dataset. In order to use \"balanced\" weights, use compute_class_weight (\"balanced\", classes, y). In place of y you can use a large enough sample of the full training set target to properly estimate the class frequency distributions. Pass the resulting weights as the class_weight parameter.\n",
            "  warn(\n",
            "/usr/local/lib/python3.9/dist-packages/sklearn/ensemble/_forest.py:777: UserWarning: class_weight presets \"balanced\" or \"balanced_subsample\" are not recommended for warm_start if the fitted data differs from the full dataset. In order to use \"balanced\" weights, use compute_class_weight (\"balanced\", classes, y). In place of y you can use a large enough sample of the full training set target to properly estimate the class frequency distributions. Pass the resulting weights as the class_weight parameter.\n",
            "  warn(\n",
            "/usr/local/lib/python3.9/dist-packages/sklearn/ensemble/_forest.py:777: UserWarning: class_weight presets \"balanced\" or \"balanced_subsample\" are not recommended for warm_start if the fitted data differs from the full dataset. In order to use \"balanced\" weights, use compute_class_weight (\"balanced\", classes, y). In place of y you can use a large enough sample of the full training set target to properly estimate the class frequency distributions. Pass the resulting weights as the class_weight parameter.\n",
            "  warn(\n",
            "/usr/local/lib/python3.9/dist-packages/sklearn/ensemble/_forest.py:777: UserWarning: class_weight presets \"balanced\" or \"balanced_subsample\" are not recommended for warm_start if the fitted data differs from the full dataset. In order to use \"balanced\" weights, use compute_class_weight (\"balanced\", classes, y). In place of y you can use a large enough sample of the full training set target to properly estimate the class frequency distributions. Pass the resulting weights as the class_weight parameter.\n",
            "  warn(\n",
            "/usr/local/lib/python3.9/dist-packages/sklearn/ensemble/_forest.py:777: UserWarning: class_weight presets \"balanced\" or \"balanced_subsample\" are not recommended for warm_start if the fitted data differs from the full dataset. In order to use \"balanced\" weights, use compute_class_weight (\"balanced\", classes, y). In place of y you can use a large enough sample of the full training set target to properly estimate the class frequency distributions. Pass the resulting weights as the class_weight parameter.\n",
            "  warn(\n",
            "/usr/local/lib/python3.9/dist-packages/sklearn/ensemble/_forest.py:777: UserWarning: class_weight presets \"balanced\" or \"balanced_subsample\" are not recommended for warm_start if the fitted data differs from the full dataset. In order to use \"balanced\" weights, use compute_class_weight (\"balanced\", classes, y). In place of y you can use a large enough sample of the full training set target to properly estimate the class frequency distributions. Pass the resulting weights as the class_weight parameter.\n",
            "  warn(\n",
            "/usr/local/lib/python3.9/dist-packages/sklearn/ensemble/_forest.py:777: UserWarning: class_weight presets \"balanced\" or \"balanced_subsample\" are not recommended for warm_start if the fitted data differs from the full dataset. In order to use \"balanced\" weights, use compute_class_weight (\"balanced\", classes, y). In place of y you can use a large enough sample of the full training set target to properly estimate the class frequency distributions. Pass the resulting weights as the class_weight parameter.\n",
            "  warn(\n",
            "/usr/local/lib/python3.9/dist-packages/sklearn/ensemble/_forest.py:777: UserWarning: class_weight presets \"balanced\" or \"balanced_subsample\" are not recommended for warm_start if the fitted data differs from the full dataset. In order to use \"balanced\" weights, use compute_class_weight (\"balanced\", classes, y). In place of y you can use a large enough sample of the full training set target to properly estimate the class frequency distributions. Pass the resulting weights as the class_weight parameter.\n",
            "  warn(\n",
            "/usr/local/lib/python3.9/dist-packages/sklearn/ensemble/_forest.py:777: UserWarning: class_weight presets \"balanced\" or \"balanced_subsample\" are not recommended for warm_start if the fitted data differs from the full dataset. In order to use \"balanced\" weights, use compute_class_weight (\"balanced\", classes, y). In place of y you can use a large enough sample of the full training set target to properly estimate the class frequency distributions. Pass the resulting weights as the class_weight parameter.\n",
            "  warn(\n",
            "/usr/local/lib/python3.9/dist-packages/sklearn/ensemble/_forest.py:777: UserWarning: class_weight presets \"balanced\" or \"balanced_subsample\" are not recommended for warm_start if the fitted data differs from the full dataset. In order to use \"balanced\" weights, use compute_class_weight (\"balanced\", classes, y). In place of y you can use a large enough sample of the full training set target to properly estimate the class frequency distributions. Pass the resulting weights as the class_weight parameter.\n",
            "  warn(\n",
            "/usr/local/lib/python3.9/dist-packages/sklearn/ensemble/_forest.py:777: UserWarning: class_weight presets \"balanced\" or \"balanced_subsample\" are not recommended for warm_start if the fitted data differs from the full dataset. In order to use \"balanced\" weights, use compute_class_weight (\"balanced\", classes, y). In place of y you can use a large enough sample of the full training set target to properly estimate the class frequency distributions. Pass the resulting weights as the class_weight parameter.\n",
            "  warn(\n",
            "/usr/local/lib/python3.9/dist-packages/sklearn/ensemble/_forest.py:777: UserWarning: class_weight presets \"balanced\" or \"balanced_subsample\" are not recommended for warm_start if the fitted data differs from the full dataset. In order to use \"balanced\" weights, use compute_class_weight (\"balanced\", classes, y). In place of y you can use a large enough sample of the full training set target to properly estimate the class frequency distributions. Pass the resulting weights as the class_weight parameter.\n",
            "  warn(\n",
            "/usr/local/lib/python3.9/dist-packages/sklearn/ensemble/_forest.py:777: UserWarning: class_weight presets \"balanced\" or \"balanced_subsample\" are not recommended for warm_start if the fitted data differs from the full dataset. In order to use \"balanced\" weights, use compute_class_weight (\"balanced\", classes, y). In place of y you can use a large enough sample of the full training set target to properly estimate the class frequency distributions. Pass the resulting weights as the class_weight parameter.\n",
            "  warn(\n",
            "/usr/local/lib/python3.9/dist-packages/sklearn/ensemble/_forest.py:777: UserWarning: class_weight presets \"balanced\" or \"balanced_subsample\" are not recommended for warm_start if the fitted data differs from the full dataset. In order to use \"balanced\" weights, use compute_class_weight (\"balanced\", classes, y). In place of y you can use a large enough sample of the full training set target to properly estimate the class frequency distributions. Pass the resulting weights as the class_weight parameter.\n",
            "  warn(\n",
            "/usr/local/lib/python3.9/dist-packages/sklearn/model_selection/_validation.py:378: FitFailedWarning: \n",
            "10 fits failed out of a total of 50.\n",
            "The score on these train-test partitions for these parameters will be set to 0.0.\n",
            "If these failures are not expected, you can try to debug them by setting error_score='raise'.\n",
            "\n",
            "Below are more details about the failures:\n",
            "--------------------------------------------------------------------------------\n",
            "10 fits failed with the following error:\n",
            "Traceback (most recent call last):\n",
            "  File \"/usr/local/lib/python3.9/dist-packages/sklearn/model_selection/_validation.py\", line 686, in _fit_and_score\n",
            "    estimator.fit(X_train, y_train, **fit_params)\n",
            "  File \"/usr/local/lib/python3.9/dist-packages/sklearn/ensemble/_forest.py\", line 434, in fit\n",
            "    raise ValueError(\"Out of bag estimation only available if bootstrap=True\")\n",
            "ValueError: Out of bag estimation only available if bootstrap=True\n",
            "\n",
            "  warnings.warn(some_fits_failed_message, FitFailedWarning)\n",
            "/usr/local/lib/python3.9/dist-packages/sklearn/ensemble/_forest.py:777: UserWarning: class_weight presets \"balanced\" or \"balanced_subsample\" are not recommended for warm_start if the fitted data differs from the full dataset. In order to use \"balanced\" weights, use compute_class_weight (\"balanced\", classes, y). In place of y you can use a large enough sample of the full training set target to properly estimate the class frequency distributions. Pass the resulting weights as the class_weight parameter.\n",
            "  warn(\n"
          ]
        },
        {
          "output_type": "stream",
          "name": "stdout",
          "text": [
            "best parameters for LSVM univariate {'tol': 0.001, 'penalty': 'l2', 'loss': 'squared_hinge', 'intercept_scaling': 1, 'C': 10000.0}\n",
            "best parameters for Tree univariate {'splitter': 'random', 'min_weight_fraction_leaf': 0.22916666666666666, 'min_samples_split': 8, 'min_samples_leaf': 6, 'max_features': 'sqrt', 'criterion': 'entropy'}\n",
            "best parameters for SVM univariate {'tol': 1.0, 'shrinking': True, 'probability': True, 'kernel': 'linear', 'gamma': 'auto', 'degree': 4, 'coef0': 4, 'cache_size': 169, 'C': 0.001}\n",
            "best parameters for RF univariate {'warm_start': True, 'oob_score': True, 'n_estimators': 555, 'min_weight_fraction_leaf': 0.1875, 'min_samples_split': 4, 'min_samples_leaf': 8, 'max_features': None, 'criterion': 'entropy', 'bootstrap': True}\n"
          ]
        }
      ]
    },
    {
      "cell_type": "markdown",
      "source": [
        "## **Plot learning curves for classifiers with tuned hyperparameter settings**"
      ],
      "metadata": {
        "id": "anrTWhGjalQX"
      }
    },
    {
      "cell_type": "markdown",
      "source": [
        "**Classifiers in combination with univariate feature selection (+ PCA feature transformation for Decision Tree)** "
      ],
      "metadata": {
        "id": "WyisDH7N5yU5"
      }
    },
    {
      "cell_type": "code",
      "source": [
        "tree = DecisionTreeClassifier(**search_tree_univariate.best_params_,random_state=0, class_weight='balanced')\n",
        "l_svm = LinearSVC(**search_lsvm_univariate.best_params_, random_state=0, fit_intercept=True, class_weight='balanced')\n",
        "svm = SVC(**search_svm_univariate.best_params_, random_state=0, class_weight='balanced')\n",
        "rf = RandomForestClassifier(**search_rf_univariate.best_params_, random_state=0, class_weight='balanced')\n",
        "\n",
        "fig, ax = plt.subplots(nrows=1, ncols=4, figsize=(16, 6), sharey=True)\n",
        "title = ['tree', 'RF', 'LSVM', 'SVM']\n",
        "\n",
        "common_params = {\n",
        "    \"X\": X_univariate,\n",
        "    \"y\": y_train,\n",
        "    \"train_sizes\": np.linspace(0.1, 1.0, 5),\n",
        "    \"cv\": ShuffleSplit(n_splits=50, test_size=0.2, random_state=0),\n",
        "    \"score_type\": \"both\",\n",
        "    \"n_jobs\": 4,\n",
        "    \"line_kw\": {\"marker\": \"o\"},\n",
        "    \"std_display_style\": \"fill_between\",\n",
        "    \"score_name\": \"f2\",\n",
        "    \"scoring\": f_beta\n",
        "}\n",
        "\n",
        "common_params_tree = {\n",
        "    \"X\": X_pca,\n",
        "    \"y\": y_train,\n",
        "    \"train_sizes\": np.linspace(0.1, 1.0, 5),\n",
        "    \"cv\": ShuffleSplit(n_splits=50, test_size=0.2, random_state=0),\n",
        "    \"score_type\": \"both\",\n",
        "    \"n_jobs\": 4,\n",
        "    \"line_kw\": {\"marker\": \"o\"},\n",
        "    \"std_display_style\": \"fill_between\",\n",
        "    \"score_name\": \"f2\",\n",
        "    \"scoring\": f_beta\n",
        "}\n",
        "\n",
        "LearningCurveDisplay.from_estimator(tree, **common_params_tree, ax=ax[0], random_state=0)\n",
        "handles, label = ax[0].get_legend_handles_labels()\n",
        "ax[0].legend(handles[:2], [\"Training Score\", \"Test Score\"])\n",
        "ax[0].set_title(f\"Learning Curve for {title[0]}\")\n",
        "\n",
        "for ax_idx, estimator in enumerate([rf, l_svm, svm],1):\n",
        "    LearningCurveDisplay.from_estimator(estimator, **common_params, ax=ax[ax_idx], random_state=0)\n",
        "    handles, label = ax[ax_idx].get_legend_handles_labels()\n",
        "    ax[ax_idx].legend(handles[:2], [\"Training Score\", \"Test Score\"])\n",
        "    ax[ax_idx].set_title(f\"Learning Curve for {title[ax_idx]}\")"
      ],
      "metadata": {
        "id": "qx_GUZmsKUcv"
      },
      "execution_count": null,
      "outputs": []
    },
    {
      "cell_type": "markdown",
      "source": [
        "**Classifiers in combination with EN regression feature selection**\n",
        "\n"
      ],
      "metadata": {
        "id": "42TSWaguKwiJ"
      }
    },
    {
      "cell_type": "code",
      "source": [
        "tree = DecisionTreeClassifier(**search_tree_enreg.best_params_,random_state=0, class_weight='balanced')\n",
        "l_svm = LinearSVC(**search_lsvm_enreg.best_params_, random_state=0, class_weight='balanced', dual=False, fit_intercept=True)\n",
        "svm = SVC(**search_svm_enreg.best_params_, random_state=0, class_weight='balanced')\n",
        "rf = RandomForestClassifier(**search_rf_enreg.best_params_, random_state=0, class_weight='balanced')\n",
        "\n",
        "fig, ax = plt.subplots(nrows=1, ncols=4, figsize=(16, 6), sharey=True)\n",
        "title = ['tree', 'RF', 'LSVM', 'SVM']\n",
        "\n",
        "common_params = {\n",
        "    \"X\": X_ENreg,\n",
        "    \"y\": y_train,\n",
        "    \"train_sizes\": np.linspace(0.1, 1.0, 5),\n",
        "    \"cv\": ShuffleSplit(n_splits=50, test_size=0.2, random_state=0),\n",
        "    \"score_type\": \"both\",\n",
        "    \"n_jobs\": 4,\n",
        "    \"line_kw\": {\"marker\": \"o\"},\n",
        "    \"std_display_style\": \"fill_between\",\n",
        "    \"score_name\": \"f2\",\n",
        "    \"scoring\": f_beta\n",
        "}\n",
        "\n",
        "for ax_idx, estimator in enumerate([tree, rf, l_svm, svm]):\n",
        "    LearningCurveDisplay.from_estimator(estimator, **common_params, ax=ax[ax_idx])\n",
        "    handles, label = ax[ax_idx].get_legend_handles_labels()\n",
        "    ax[ax_idx].legend(handles[:2], [\"Training Score\", \"Test Score\"])\n",
        "    ax[ax_idx].set_title(f\"Learning Curve for {title[ax_idx]}\")"
      ],
      "metadata": {
        "id": "HQB_j6uV5aXD"
      },
      "execution_count": null,
      "outputs": []
    },
    {
      "cell_type": "markdown",
      "source": [
        "## **Create tabels with f2 score and standard deviation:**\n"
      ],
      "metadata": {
        "id": "xW7pR9YAVWmR"
      }
    },
    {
      "cell_type": "markdown",
      "source": [
        "**Classifiers in combination with univariate feature selection (+ PCA feature transformation for Decision Tree)** "
      ],
      "metadata": {
        "id": "QvWI9qKMZOR2"
      }
    },
    {
      "cell_type": "code",
      "source": [
        "tree = DecisionTreeClassifier(random_state=0)\n",
        "l_svm = LinearSVC(random_state=0)\n",
        "svm = SVC(random_state=0)\n",
        "rf = RandomForestClassifier(random_state=0)\n",
        "\n",
        "common_params_univariate = {\n",
        "    \"X\": X_univariate,\n",
        "    \"y\": y_train,\n",
        "    \"train_sizes\": np.linspace(0.1, 1.0, 5),\n",
        "    \"cv\": ShuffleSplit(n_splits=50, test_size=0.2, random_state=0),\n",
        "    \"n_jobs\": 4,\n",
        "    \"scoring\": f_beta\n",
        "}\n",
        "\n",
        "common_params_tree = {\n",
        "    \"X\": X_pca,\n",
        "    \"y\": y_train,\n",
        "    \"train_sizes\": np.linspace(0.1, 1.0, 5),\n",
        "    \"cv\": ShuffleSplit(n_splits=50, test_size=0.2, random_state=0),\n",
        "    \"n_jobs\": 4,\n",
        "    \"scoring\": f_beta\n",
        "}\n",
        "\n",
        "common_params_enreg = {\n",
        "    \"X\": X_ENreg,\n",
        "    \"y\": y_train,\n",
        "    \"train_sizes\": np.linspace(0.1, 1.0, 5),\n",
        "    \"cv\": ShuffleSplit(n_splits=50, test_size=0.2, random_state=0),\n",
        "    \"n_jobs\": 4,\n",
        "    \"scoring\": f_beta\n",
        "}\n",
        "\n",
        "# create a list of tuples containing classifier names and their instances\n",
        "classifiers = [(\"Decision Tree\", tree), (\"Random Forest\", rf), (\"Linear SVM\", l_svm), (\"SVM\", svm)]\n",
        "\n",
        "# create an empty DataFrame to store the results\n",
        "results_df = pd.DataFrame(columns=[\"Classifier\", \"Train Size\", \"Train Score\", \"Train Score Std\", \"Test Score\", \"Test Score Std\"])\n",
        "\n",
        "# loop through the classifiers\n",
        "for clf_name, clf in classifiers:\n",
        "    # set the name of the classifier in the results DataFrame\n",
        "    results_df_univariate = results_df.append({\"Classifier\": clf_name, \"Train Size\": 0, \"Train Score\": 0, \"Train Score Std\": 0, \"Test Score\": 0, \"Test Score Std\": 0}, ignore_index=True)\n",
        "    results_df_enreg = results_df.append({\"Classifier\": clf_name, \"Train Size\": 0, \"Train Score\": 0, \"Train Score Std\": 0, \"Test Score\": 0, \"Test Score Std\": 0}, ignore_index=True)\n",
        "\n",
        "    # select the common params based on the classifier name\n",
        "    if clf_name == \"Decision Tree\":\n",
        "        common_params_sel = common_params_tree\n",
        "    else:\n",
        "        common_params_sel = common_params_univariate\n",
        "    \n",
        "    # run the learning curve for the classifier\n",
        "    train_size_abs, train_scores, test_scores = learning_curve(clf, **common_params_sel)\n",
        "\n",
        "    # add the scores to the results DataFrame\n",
        "    results_df_univariate.loc[len(results_df)-1, \"Train Size\"] = train_size_abs[-1]\n",
        "    results_df_univariate.loc[len(results_df)-1, \"Train Score\"] = train_scores[-1, :].mean()\n",
        "    results_df_univariate.loc[len(results_df)-1, \"Train Score Std\"] = np.std(train_scores[-1, :])\n",
        "    results_df_univariate.loc[len(results_df)-1, \"Test Score\"] = test_scores[-1, :].mean()\n",
        "    results_df_univariate.loc[len(results_df)-1, \"Test Score Std\"] = np.std(test_scores[-1, :])\n",
        "\n",
        "     # run the learning curve for the classifier\n",
        "    train_size_abs, train_scores, test_scores = learning_curve(clf, **common_params_enreg)\n",
        "\n",
        "    # add the scores to the results DataFrame\n",
        "    results_df_enreg.loc[len(results_df)-1, \"Train Size\"] = train_size_abs[-1]\n",
        "    results_df_enreg.loc[len(results_df)-1, \"Train Score\"] = train_scores[-1, :].mean()\n",
        "    results_df_enreg.loc[len(results_df)-1, \"Train Score Std\"] = np.std(train_scores[-1, :])\n",
        "    results_df_enreg.loc[len(results_df)-1, \"Test Score\"] = test_scores[-1, :].mean()\n",
        "    results_df_enreg.loc[len(results_df)-1, \"Test Score Std\"] = np.std(test_scores[-1, :])\n",
        "\n",
        "\n",
        "# print the results DataFrame\n",
        "print(f'Results not tuned hyperparameters univariate')\n",
        "print(results_df_univariate)\n",
        "print(f'Results not tuned hyperparameters enreg')\n",
        "print(results_df_enreg)"
      ],
      "metadata": {
        "id": "eKB6gxKZVntO"
      },
      "execution_count": null,
      "outputs": []
    },
    {
      "cell_type": "code",
      "source": [],
      "metadata": {
        "id": "PV9Gq2RQWv1u"
      },
      "execution_count": null,
      "outputs": []
    },
    {
      "cell_type": "markdown",
      "source": [
        "# **Evaluation set-up**"
      ],
      "metadata": {
        "id": "ItrwVQZcZOjC"
      }
    },
    {
      "cell_type": "code",
      "source": [
        "num_iterations = 2\n",
        "accuracies = []\n",
        "\n",
        "for i in range(num_iterations):\n",
        "    # Split the dataset randomly into training and testing sets\n",
        "    x_train, x_test, y_train, y_test = model_selection.train_test_split(x_dropped, y_dropped, test_size=0.25, random_state=i, stratify=y_dropped)\n",
        "\n",
        "    # Train an LSVM classifier on the training set\n",
        "    regr = ElasticNetCV(cv=5, random_state=i)\n",
        "    regr.fit(x_train, y_train)\n",
        "    print(regr.alpha_)\n",
        "\n",
        "    ENreg = ElasticNet(alpha=regr.alpha_, l1_ratio=0.05).fit(x_train,y_train)\n",
        "    model_ENreg = SelectFromModel(ENreg, prefit=True)\n",
        "    x_ENreg = model_ENreg.transform(x_train)\n",
        "    print(f'result Elastic Net: {x_ENreg.shape}')\n",
        "\n",
        "    l_svm = LinearSVC(dual=False, fit_intercept=True, class_weight = 'balanced', random_state=i)\n",
        "    \n",
        "    distributions = dict(penalty=['l2', 'l1'],\n",
        "                        loss = ['hinge','squared_hinge'],                                       \n",
        "                        tol = np.geomspace(1e-7, 1e2, num=10),\n",
        "                        C = np.geomspace(1e-5, 1e5, num=11),\n",
        "                        intercept_scaling = range(1,10))\n",
        "\n",
        "    clf_lsvm = RandomizedSearchCV(l_svm, distributions_lsvm, random_state=i, error_score=0.0, scoring=f_beta)  \n",
        "    search = clf_lsvm.fit(x_ENreg, y_train)\n",
        "    print(search.best_params_)\n",
        "\n",
        "    # Evaluate the classifier on the testing set\n",
        "    accuracy = clf.score(x_test, y_test)\n",
        "    accuracies.append(accuracy)\n",
        "\n",
        "    print(f'New iteration: {i}')"
      ],
      "metadata": {
        "id": "1s0IdgdrNxMD"
      },
      "execution_count": null,
      "outputs": []
    }
  ]
}